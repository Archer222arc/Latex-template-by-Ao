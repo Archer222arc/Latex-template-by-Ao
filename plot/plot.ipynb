{
 "cells": [
  {
   "cell_type": "code",
   "execution_count": 3,
   "metadata": {},
   "outputs": [
    {
     "ename": "TypeError",
     "evalue": "list indices must be integers or slices, not str",
     "output_type": "error",
     "traceback": [
      "\u001b[0;31m---------------------------------------------------------------------------\u001b[0m",
      "\u001b[0;31mTypeError\u001b[0m                                 Traceback (most recent call last)",
      "\u001b[0;32m/var/folders/45/8vqgcfcs1sqfvhb08fxp2b7c0000gn/T/ipykernel_41467/135884767.py\u001b[0m in \u001b[0;36m<module>\u001b[0;34m\u001b[0m\n\u001b[1;32m     28\u001b[0m         \u001b[0;31m#              color=metric_color, markevery=0.1)\u001b[0m\u001b[0;34m\u001b[0m\u001b[0;34m\u001b[0m\u001b[0;34m\u001b[0m\u001b[0m\n\u001b[1;32m     29\u001b[0m \u001b[0;34m\u001b[0m\u001b[0m\n\u001b[0;32m---> 30\u001b[0;31m \u001b[0mmethod_list\u001b[0m\u001b[0;34m[\u001b[0m\u001b[0;34m\"1\"\u001b[0m\u001b[0;34m]\u001b[0m\u001b[0;34m\u001b[0m\u001b[0;34m\u001b[0m\u001b[0m\n\u001b[0m",
      "\u001b[0;31mTypeError\u001b[0m: list indices must be integers or slices, not str"
     ]
    }
   ],
   "source": [
    "import numpy as np\n",
    "import matplotlib.pyplot as plt\n",
    "import itertools\n",
    "\n",
    "plt.rcParams.update({'font.size': 16})\n",
    "plt.rcParams[\"figure.figsize\"] = (6,5)\n",
    "\n",
    "plt.rcParams.update({\n",
    "    'lines.markersize': 10,\n",
    "    \"text.usetex\": True,\n",
    "    \"font.family\": \"sans-serif\",\n",
    "    \"font.size\": 16,\n",
    "    \"font.sans-serif\": [\"Helvetica\"]})\n",
    "\n",
    "metric_markers = itertools.cycle(('x', '+', '.', '<')) \n",
    "metric_colors = itertools.cycle(('tab:blue', 'tab:orange', 'tab:green', 'tab:red'))\n",
    "method_styles = itertools.cycle(('solid', 'dashed','dotted',\"dashdot\"))\n",
    "\n",
    "metric_list = ['KL', 'GAP', 'f', 'LOG']\n",
    "method_list = [\"1\",\"2\",\"3\",\"4\"]\n",
    "err = {}\n",
    "T = 1\n",
    "for i in range(4):\n",
    "    for metric in metric_list:\n",
    "        err[method+'/'+metric] = np.zeros(T)\n",
    "\n",
    "    for t in range(T):\n",
    "        method_style = next(method_styles)\n",
    "        method = method_list[i]\n",
    "        err[method+'/KL'][t] = 0\n",
    "        err[method+'/GAP'][t] = 0\n",
    "        err[method+'/f'][t] = 0\n",
    "        err[method+'/LOG'][t] = 0\n",
    "\n",
    "    for metric in metric_list:\n",
    "        metric_marker = next(metric_markers)\n",
    "        metric_color = next(metric_colors)\n",
    "        plt.semilogy(range(T),err[method+'/'+metric],marker=metric_marker, linestyle=method_style,\\\n",
    "                    color=metric_color, markevery=0.1)\n",
    "\n",
    "plt.xlabel('Iteration Count $t$')\n",
    "\n",
    "for metric, label in zip(metric_list, [r'$\\mathrm{KL}(\\zeta\\|\\zeta^{(t)})$', r'$\\mathsf{DualGap}(\\bar{\\zeta}^{(t)})$',r'$\\mathsf{OptGap}_(\\bar{\\zeta}^{(t)})$', r'$\\|\\log \\zeta/\\zeta^{(t)}\\|_\\infty^2$']):\n",
    "    plt.plot([0], [0], marker=next(metric_markers), color=next(metric_colors), linestyle='None', label=label)\n",
    "\n",
    "plt.xlabel('Iteration Count $t$')\n",
    "for metric, label in zip(metric_list, [r'$\\mathrm{KL}(\\zeta\\|\\zeta^{(t)})$', r'$\\mathsf{DualGap}(\\bar{\\zeta}^{(t)})$',r'$\\mathsf{OptGap}_(\\bar{\\zeta}^{(t)})$', r'$\\|\\log \\zeta/\\zeta^{(t)}\\|_\\infty^2$']):\n",
    "    plt.plot([0], [0], marker=next(metric_markers), color=next(metric_colors), linestyle='None', label=label)\n",
    "plt.plot([0], [0], color='k', linestyle='solid', label='OGDA')\n",
    "plt.plot([0], [0], color='k', linestyle='dashed', label='EAG')\n",
    "\n",
    "eta = 1\n",
    "d = 1\n",
    "plt.legend(loc='lower left')\n",
    "plt.tight_layout()\n",
    "plt.savefig('./fig/ogda_eta{}_d{}.png'.format(eta,d))\n",
    "plt.show()"
   ]
  }
 ],
 "metadata": {
  "interpreter": {
   "hash": "8abbd03d889b681dfc25b9b75109bd40b76a9a06c4e7f32e10d8513c66029d7a"
  },
  "kernelspec": {
   "display_name": "Python 3.8.5 ('base')",
   "language": "python",
   "name": "python3"
  },
  "language_info": {
   "codemirror_mode": {
    "name": "ipython",
    "version": 3
   },
   "file_extension": ".py",
   "mimetype": "text/x-python",
   "name": "python",
   "nbconvert_exporter": "python",
   "pygments_lexer": "ipython3",
   "version": "3.8.5"
  },
  "orig_nbformat": 4
 },
 "nbformat": 4,
 "nbformat_minor": 2
}
